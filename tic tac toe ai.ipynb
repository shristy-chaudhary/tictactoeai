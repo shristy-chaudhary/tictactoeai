{
 "cells": [
  {
   "cell_type": "code",
   "execution_count": null,
   "id": "91190974",
   "metadata": {},
   "outputs": [],
   "source": [
    "import math\n",
    "import random"
   ]
  },
  {
   "cell_type": "code",
   "execution_count": null,
   "id": "579d88b7",
   "metadata": {},
   "outputs": [],
   "source": [
    "class TicTacToe:\n",
    "\n",
    "    def __init__(self):\n",
    "        self.board = self.make_board()\n",
    "        self.current_winner = None\n",
    "\n",
    "    @staticmethod\n",
    "    def make_board():\n",
    "        return [' ' for _ in range(9)]\n"
   ]
  },
  {
   "cell_type": "code",
   "execution_count": null,
   "id": "083a5e45",
   "metadata": {},
   "outputs": [],
   "source": [
    "  # existing TicTacToe methods\n",
    "\n",
    "def print_board_nums(self):\n",
    "    number_board = [[str(i) for i in range(j*3, (j+1)*3)] for j in range(3)]\n",
    "    for row in number_board:\n",
    "      print('| ' + ' | '.join(row) + ' |')\n",
    "def play(game, x_player, o_player, print_game=True):\n",
    "\n",
    "    if print_game:\n",
    "        game.print_board_nums()\n",
    "    \n",
    "    # Rest of play function\n",
    "\n",
    "def play_game():\n",
    "\n",
    "    # Create players\n",
    "\n",
    "    t = TicTacToe()\n",
    "    play(t, x_player, o_player, print_game=True)"
   ]
  },
  {
   "cell_type": "code",
   "execution_count": null,
   "id": "d9321c92",
   "metadata": {},
   "outputs": [],
   "source": [
    "    def print_board(self):\n",
    "        for row in [self.board[i*3:(i+1) * 3] for i in range(3)]:\n",
    "            print('| ' + ' | '.join(row) + ' |')\n",
    "\n",
    "    \n",
    "    def print_board_nums():\n",
    "        number_board = [[str(i) for i in range(j*3, (j+1)*3)] for j in range(3)]\n",
    "        for row in number_board:\n",
    "            print('| ' + ' | '.join(row) + ' |')\n",
    "\n",
    "    def make_move(self, square, letter):\n",
    "        if self.board[square] == ' ':\n",
    "            self.board[square] = letter\n",
    "            if self.winner(square, letter):\n",
    "                self.current_winner = letter\n",
    "            return True\n",
    "        return False"
   ]
  },
  {
   "cell_type": "code",
   "execution_count": null,
   "id": "b6ecf04c",
   "metadata": {},
   "outputs": [],
   "source": [
    " def winner(self, square, letter):\n",
    "        # check row\n",
    "        row_ind = math.floor(square / 3)\n",
    "        row = self.board[row_ind*3:(row_ind+1)*3]\n",
    "        if all([s == letter for s in row]):\n",
    "            return True\n",
    "        # check column\n",
    "        col_ind = square % 3\n",
    "        column = [self.board[col_ind+i*3] for i in range(3)]\n",
    "        if all([s == letter for s in column]):\n",
    "            return True\n",
    "        # check diagonals\n",
    "        if square % 2 == 0:\n",
    "            diagonal1 = [self.board[i] for i in [0, 4, 8]]\n",
    "            if all([s == letter for s in diagonal1]):\n",
    "                return True\n",
    "            diagonal2 = [self.board[i] for i in [2, 4, 6]]\n",
    "            if all([s == letter for s in diagonal2]):\n",
    "                return True\n",
    "        return False"
   ]
  },
  {
   "cell_type": "code",
   "execution_count": null,
   "id": "7a6641da",
   "metadata": {},
   "outputs": [],
   "source": [
    "     def empty_squares(self):\n",
    "        return ' ' in self.board\n",
    "\n",
    "     def num_empty_squares(self):\n",
    "        return self.board.count(' ')\n",
    "\n",
    "     def available_moves(self):\n",
    "        return [i for i, x in enumerate(self.board) if x == \" \"]\n"
   ]
  },
  {
   "cell_type": "code",
   "execution_count": null,
   "id": "c928b8a8",
   "metadata": {},
   "outputs": [],
   "source": [
    "def play(game, x_player, o_player, print_game=True):\n",
    "\n",
    "    if print_game:\n",
    "        game.print_board_nums()\n",
    "\n",
    "    letter = 'X'\n",
    "    while game.empty_squares():\n",
    "        if letter == 'O':\n",
    "            square = o_player.get_move(game)\n",
    "        else:\n",
    "            square = x_player.get_move(game)\n",
    "        if game.make_move(square, letter):\n",
    "\n",
    "            if print_game:\n",
    "                print(letter + ' makes a move to square {}'.format(square))\n",
    "                game.print_board()\n",
    "                print('')\n",
    "\n",
    "            if game.current_winner:\n",
    "                if print_game:\n",
    "                    print(letter + ' wins!')\n",
    "                return letter \n",
    "\n",
    "            letter = 'O' if letter == 'X' else 'X'\n",
    "\n",
    "        if print_game:\n",
    "            time.sleep(.8)\n",
    "\n",
    "    if print_game:\n",
    "        print('It\\'s a tie!')\n"
   ]
  },
  {
   "cell_type": "code",
   "execution_count": null,
   "id": "8c37fc95",
   "metadata": {},
   "outputs": [],
   "source": [
    "class AI_Player:\n",
    "    def __init__(self, letter):\n",
    "        self.letter = letter\n",
    "\n",
    "    def get_move(self, game):\n",
    "        pass"
   ]
  },
  {
   "cell_type": "code",
   "execution_count": null,
   "id": "80f53555",
   "metadata": {},
   "outputs": [],
   "source": [
    "class Random_Player(AI_Player):\n",
    "    def __init__(self, letter):\n",
    "        super().__init__(letter)\n",
    "\n",
    "    def get_move(self, game):\n",
    "        square = random.choice(game.available_moves())\n",
    "        return square\n"
   ]
  },
  {
   "cell_type": "code",
   "execution_count": null,
   "id": "3cad89d1",
   "metadata": {},
   "outputs": [],
   "source": [
    "class Minimax_Player(AI_Player):\n",
    "\n",
    "    def __init__(self, letter):\n",
    "        super().__init__(letter)\n",
    "\n",
    "    def get_move(self, game):\n",
    "        if len(game.available_moves()) == 9:\n",
    "            square = random.choice(game.available_moves())\n",
    "        else:\n",
    "            square = self.minimax(game, self.letter)['position']\n",
    "        return square"
   ]
  },
  {
   "cell_type": "code",
   "execution_count": null,
   "id": "0eccf013",
   "metadata": {},
   "outputs": [],
   "source": [
    "def minimax(self, state, player):\n",
    "        max_player = self.letter\n",
    "        other_player = 'O' if player == 'X' else 'X'\n",
    "\n",
    "        if state.current_winner == other_player:\n",
    "            return {'position': None, 'score': 1 * (state.num_empty_squares() + 1) if other_player == max_player else -1 * (\n",
    "                        state.num_empty_squares() + 1)}\n",
    "        elif not state.empty_squares():\n",
    "            return {'position': None, 'score': 0}\n",
    "\n",
    "        if player == max_player:\n",
    "            best = {'position': None, 'score': -math.inf}  \n",
    "        else:\n",
    "            best = {'position': None, 'score': math.inf} \n",
    "\n",
    "        for possible_move in state.available_moves():\n",
    "            state.make_move(possible_move, player)\n",
    "            sim_score = self.minimax(state, other_player) \n",
    "\n",
    "            state.board[possible_move] = ' '\n",
    "            state.current_winner = None\n",
    "            sim_score['position'] = possible_move\n",
    "\n",
    "            if player == max_player:  \n",
    "                if sim_score['score'] > best['score']:\n",
    "                    best = sim_score\n",
    "            else:\n",
    "                if sim_score['score'] < best['score']:\n",
    "                    best = sim_score\n",
    "        return best\n"
   ]
  },
  {
   "cell_type": "code",
   "execution_count": null,
   "id": "f273e8a6",
   "metadata": {},
   "outputs": [],
   "source": [
    "class AlphaBeta_Player(AI_Player):\n",
    "   \n",
    "    def __init__(self, letter):\n",
    "        super().__init__(letter)\n",
    "\n",
    "    def get_move(self, game):\n",
    "        if len(game.available_moves()) == 9:\n",
    "            square = random.choice(game.available_moves()) \n",
    "        else:\n",
    "            square = self.alphabeta(game, self.letter)['position']\n",
    "        return square\n"
   ]
  },
  {
   "cell_type": "code",
   "execution_count": null,
   "id": "f6268059",
   "metadata": {},
   "outputs": [],
   "source": [
    "def alphabeta(self, state, player, alpha=-math.inf, beta=math.inf):\n",
    "        max_player = self.letter\n",
    "        other_player = 'O' if player == 'X' else 'X'\n",
    "\n",
    "        if state.current_winner == other_player:\n",
    "            return {'position': None, 'score': 1 * (state.num_empty_squares() + 1) if other_player == max_player else -1 * (\n",
    "                        state.num_empty_squares() + 1)}\n",
    "        elif not state.empty_squares(): \n",
    "            return {'position': None, 'score': 0}\n",
    "\n",
    "        if player == max_player: \n",
    "            best = {'position': None, 'score': -math.inf}\n",
    "        else:\n",
    "            best = {'position': None, 'score': math.inf}\n",
    "\n",
    "        for possible_move in state.available_moves():\n",
    "            state.make_move(possible_move, player)\n",
    "            sim_score = self.alphabeta(state, other_player, alpha, beta)\n",
    "\n",
    "            state.board[possible_move] = ' '\n",
    "            state.current_winner = None\n",
    "            sim_score['position'] = possible_move \n",
    "\n",
    "            if player == max_player:\n",
    "                if sim_score['score'] > best['score']:\n",
    "                    best = sim_score\n",
    "                alpha = max(alpha, best['score'])\n",
    "            else:\n",
    "                if sim_score['score'] < best['score']:\n",
    "                    best = sim_score\n",
    "                beta = min(beta, best['score'])\n",
    "\n",
    "            if alpha >= beta:\n",
    "                break\n",
    "\n",
    "        return best\n"
   ]
  },
  {
   "cell_type": "code",
   "execution_count": null,
   "id": "27200714",
   "metadata": {},
   "outputs": [],
   "source": [
    "def play_game():\n",
    "    x_player = AlphaBeta_Player('X')\n",
    "    o_player = Minimax_Player('O')\n",
    "    t = TicTacToe()\n",
    "    play(t, x_player, o_player, print_game=True)\n",
    "\n",
    "print_board_nums()\n",
    "play_game()"
   ]
  },
  {
   "cell_type": "code",
   "execution_count": null,
   "id": "45df22d0",
   "metadata": {},
   "outputs": [],
   "source": []
  },
  {
   "cell_type": "code",
   "execution_count": null,
   "id": "ceee0f5d",
   "metadata": {},
   "outputs": [],
   "source": []
  },
  {
   "cell_type": "code",
   "execution_count": null,
   "id": "293c1103",
   "metadata": {},
   "outputs": [],
   "source": []
  },
  {
   "cell_type": "code",
   "execution_count": null,
   "id": "b153af79",
   "metadata": {},
   "outputs": [],
   "source": []
  },
  {
   "cell_type": "code",
   "execution_count": null,
   "id": "90258a33",
   "metadata": {},
   "outputs": [],
   "source": []
  },
  {
   "cell_type": "code",
   "execution_count": null,
   "id": "1854c53e",
   "metadata": {},
   "outputs": [],
   "source": []
  },
  {
   "cell_type": "code",
   "execution_count": null,
   "id": "5d596ab2",
   "metadata": {},
   "outputs": [],
   "source": []
  },
  {
   "cell_type": "code",
   "execution_count": null,
   "id": "1bc369b9",
   "metadata": {},
   "outputs": [],
   "source": []
  },
  {
   "cell_type": "code",
   "execution_count": null,
   "id": "5f0dc12a",
   "metadata": {},
   "outputs": [],
   "source": []
  },
  {
   "cell_type": "code",
   "execution_count": null,
   "id": "7ef2279f",
   "metadata": {},
   "outputs": [],
   "source": []
  },
  {
   "cell_type": "code",
   "execution_count": null,
   "id": "aede2aa0",
   "metadata": {},
   "outputs": [],
   "source": []
  },
  {
   "cell_type": "code",
   "execution_count": null,
   "id": "ba6e9b66",
   "metadata": {},
   "outputs": [],
   "source": []
  },
  {
   "cell_type": "code",
   "execution_count": null,
   "id": "d4a33c14",
   "metadata": {},
   "outputs": [],
   "source": []
  },
  {
   "cell_type": "code",
   "execution_count": null,
   "id": "0cd5311f",
   "metadata": {},
   "outputs": [],
   "source": []
  },
  {
   "cell_type": "code",
   "execution_count": null,
   "id": "98aaba6e",
   "metadata": {},
   "outputs": [],
   "source": []
  }
 ],
 "metadata": {
  "kernelspec": {
   "display_name": "Python 3 (ipykernel)",
   "language": "python",
   "name": "python3"
  },
  "language_info": {
   "codemirror_mode": {
    "name": "ipython",
    "version": 3
   },
   "file_extension": ".py",
   "mimetype": "text/x-python",
   "name": "python",
   "nbconvert_exporter": "python",
   "pygments_lexer": "ipython3",
   "version": "3.11.4"
  }
 },
 "nbformat": 4,
 "nbformat_minor": 5
}
